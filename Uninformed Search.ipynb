{
 "cells": [
  {
   "cell_type": "markdown",
   "metadata": {},
   "source": [
    "# Uninformed Search"
   ]
  },
  {
   "cell_type": "markdown",
   "metadata": {},
   "source": [
    "Uninformed search is a class of general-purpose search algorithms, used in different data structures, algorithms, and AIs.\n",
    "\n",
    "Uninformed search algorithms do not have additional information about domain in which they are searching for a solution (mostly how far from the goal they are) other than how to traverse the tree, thats why they are called \"uninformed\".\n",
    "\n",
    "Uninformed search algorithms are also called blind search algorithms. The search algorithm produces the search tree without using any domain knowledge, which is a brute force in nature. They don’t have any background information on how to approach the goal or whatsoever. But these are the basics of search algorithms in AI.\n",
    "\n"
   ]
  },
  {
   "cell_type": "markdown",
   "metadata": {},
   "source": [
    "The diffrent type of search algorithms are as follows:"
   ]
  },
  {
   "cell_type": "markdown",
   "metadata": {},
   "source": [
    "1. Breadth-first Search\n",
    "2. Uniform cost search\n",
    "3. Depth-first Search\n",
    "4. Depth-limited Search\n",
    "5. Iterative deepening depth-first search "
   ]
  },
  {
   "cell_type": "markdown",
   "metadata": {},
   "source": [
    "---"
   ]
  },
  {
   "cell_type": "markdown",
   "metadata": {},
   "source": [
    "## Breadth-First Search"
   ]
  },
  {
   "cell_type": "markdown",
   "metadata": {},
   "source": [
    "Breadth-first search is the most common search strategy for traversing a tree or graph. This algorithm searches breadthwise in a tree or graph, so it is called breadth-first search.\n",
    "\n",
    "BFS algorithm starts searching from the root node of the tree and expands all successor node at the current level before moving to nodes of next level.\n",
    "\n",
    "In the below tree structure, you can see the traversing of the tree using BFS algorithm."
   ]
  },
  {
   "cell_type": "markdown",
   "metadata": {},
   "source": [
    "![BFS](./images/Breadth-First-Search.gif \"Breadth-First Search\")"
   ]
  },
  {
   "cell_type": "markdown",
   "metadata": {},
   "source": [
    "**Completeness:**\n",
    "\n",
    "BFS is complete, which means if the shallowest goal node is at some finite depth, then BFS will find a solution.\n",
    "\n",
    "**Time complexity:**\n",
    "\n",
    "Time Complexity of BFS algorithm can be obtained by the number of nodes traversed in BFS until the shallowest Node.\n",
    "\n",
    "Where the d = depth of shallowest solution and b is a node at every state.\n",
    "\n",
    "> T( b ) = b + b<sup>1</sup> + b<sup>2</sup> + ... + b<sup>d</sup> + b( b<sup>d</sup> - 1 ) = O( b<sup>d+1</sup> )\n",
    "\n",
    "**Space complexity:**\n",
    "\n",
    "BFS algorithm requires a lot of memory space, because it keeps every node in memory.\n",
    " \n",
    "Space complexity of BFS is O( b<sup>d+1</sup> ).\n",
    "\n",
    "**Optimality:**\n",
    "\n",
    "In general, BFS is not optimal.\n",
    "\n",
    "But BFS is optimal if path cost is a non-decreasing function of the depth of the node e.g. `cost per step = 1`."
   ]
  },
  {
   "cell_type": "markdown",
   "metadata": {},
   "source": [
    "---"
   ]
  },
  {
   "cell_type": "markdown",
   "metadata": {},
   "source": [
    "## Uniform cost search"
   ]
  },
  {
   "cell_type": "markdown",
   "metadata": {},
   "source": [
    "Uniform cost search, also called dijkstra, is a searching algorithm used for traversing a weighted tree or graph. This algorithm comes into play when a different cost is available for each edge.\n",
    "\n",
    "The primary goal of the uniform cost search is to find a path to the goal node which has the lowest cumulative cost. \n",
    "\n",
    "Uniformcost search expands nodes according to their path costs form the root node. It can be used to solve any graph or tree where the optimal cost is in demand. It gives maximum priority to the lowest cumulative cost.\n",
    "\n",
    "Uniform cost search is equivalent to BFS algorithm if the path cost of all edges is the same.\n",
    "\n",
    "It should be noted that UCS does not care about the number of steps involved in searching and only concerned about path cost. Due to which this algorithm may be stuck in an infinite loop."
   ]
  },
  {
   "cell_type": "markdown",
   "metadata": {},
   "source": [
    "**Completeness:**\n",
    "\n",
    "Uniform-cost search is complete, if a goal state exists, UCS will find it because it must have some finite length shortest path.\n",
    "\n",
    "In other words, UCS is complete if the cost of each step exceeds some small positive integer, this to prevent infinite loops.\n",
    "\n",
    "**Time complexity:**\n",
    "\n",
    "Let C* be cost of the optimal solution, and ε be each step to get closer to the goal node. Then the number of steps is C\\*/ε .\n",
    "\n",
    "Hence, the worst-case time complexity of Uniform-cost search is O( b<sup>C\\*/ε</sup> ).\n",
    "\n",
    "**Space complexity:**\n",
    "\n",
    "The same logic is for space complexity so, the worst-case space complexity of Uniform-cost search is O( b<sup>C\\*/ε</sup> ).\n",
    "\n",
    "**Optimality:**\n",
    "\n",
    "Uniform cost search is optimal because at every state the path with the least cost is chosen."
   ]
  },
  {
   "cell_type": "markdown",
   "metadata": {},
   "source": [
    "---"
   ]
  },
  {
   "cell_type": "markdown",
   "metadata": {},
   "source": [
    "## Depth first search"
   ]
  },
  {
   "cell_type": "markdown",
   "metadata": {},
   "source": [
    "Depth first search (dfs) is a graph traversing algorithm that expands nodes in one branch as far (deep) as the branch goes before expanding nodes in other branches."
   ]
  },
  {
   "attachments": {},
   "cell_type": "markdown",
   "metadata": {},
   "source": [
    "![DFS](./images/Depth-First-Search.gif \"Depth-First Search\")"
   ]
  },
  {
   "cell_type": "markdown",
   "metadata": {},
   "source": [
    "**Completeness:**\n",
    "\n",
    "this algorithm is complete for graphs and trees in finite spaces (depths), but for graphs with cycles needs to be modified. (e.g. keeping the record of visited nodes to avoid processing a node more than once and/or getting caught in an infinite loop)\n",
    "\n",
    "**Time complexity:**\n",
    "\n",
    "dfs take time O(b<sup>m</sup>) which is terrible if m (maximum depth) is much larger than d (goal depth).\n",
    "\n",
    "**Space complexity:**\n",
    "\n",
    "the space complexity for this algorithm is O(bm). (linear space!)\n",
    "\n",
    "**Optimality:**\n",
    "\n",
    "dfs is not optimal. (the number of steps in reaching the solution may be high)"
   ]
  },
  {
   "cell_type": "markdown",
   "metadata": {},
   "source": [
    "---"
   ]
  },
  {
   "cell_type": "markdown",
   "metadata": {},
   "source": [
    "## Depth limited search"
   ]
  },
  {
   "cell_type": "markdown",
   "metadata": {},
   "source": [
    "depth limited search is same as dfs, only with a depth limit (depth limited search is limited to depth l, it means that nodes at depth l are considered without child)."
   ]
  },
  {
   "cell_type": "markdown",
   "metadata": {},
   "source": [
    "**Completeness:**\n",
    "\n",
    "this algorithm is not complete, because it will not process nodes at depth deeper than l (depth limit).\n",
    "\n",
    "**Time complexity:**\n",
    "\n",
    "O(b<sup>l</sup>)\n",
    "\n",
    "**Space complexity:**\n",
    "\n",
    "O(bl)\n",
    "\n",
    "**Optimality:**\n",
    "\n",
    "not complete means not optimal!"
   ]
  },
  {
   "cell_type": "markdown",
   "metadata": {},
   "source": [
    "---"
   ]
  },
  {
   "cell_type": "markdown",
   "metadata": {},
   "source": [
    "## Iterative deepening search"
   ]
  },
  {
   "cell_type": "markdown",
   "metadata": {},
   "source": [
    "Iterative deepening search works the same as depth limited search, but depth limit increases in iterations. It combines dps's space-efficiency and bfs's completeness."
   ]
  },
  {
   "cell_type": "markdown",
   "metadata": {},
   "source": [
    "![ID-dfs.jpg](./images/ID-dfs.jpg)"
   ]
  },
  {
   "cell_type": "markdown",
   "metadata": {},
   "source": [
    "**Completeness:**\n",
    "\n",
    "Iterative deepening search is complete, which means if branching factor is finite, then it will find a solution.\n",
    "\n",
    "**Time complexity:**\n",
    "\n",
    "O(b<sup>d</sup>)\n",
    "\n",
    "**Space complexity:**\n",
    "\n",
    "O(d)\n",
    "\n",
    "**Optimality:**\n",
    "\n",
    "yes (if step cost is 1), can be modified to work on uniform cost tree"
   ]
  }
 ],
 "metadata": {
  "kernelspec": {
   "display_name": "Python 3",
   "language": "python",
   "name": "python3"
  },
  "language_info": {
   "codemirror_mode": {
    "name": "ipython",
    "version": 3
   },
   "file_extension": ".py",
   "mimetype": "text/x-python",
   "name": "python",
   "nbconvert_exporter": "python",
   "pygments_lexer": "ipython3",
   "version": "3.8.5"
  }
 },
 "nbformat": 4,
 "nbformat_minor": 2
}
